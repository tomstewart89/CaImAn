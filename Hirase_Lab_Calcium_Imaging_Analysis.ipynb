{
 "cells": [
  {
   "cell_type": "code",
   "execution_count": 1,
   "metadata": {
    "collapsed": false
   },
   "outputs": [
    {
     "name": "stdout",
     "output_type": "stream",
     "text": [
      "numba not found\n"
     ]
    }
   ],
   "source": [
    "# -*- coding: utf-8 -*-\n",
    "\"\"\"\n",
    "Created on Wed Feb 24 18:39:45 2016\n",
    "\n",
    "@author: Andrea Giovannucci\n",
    "\n",
    "For explanation consult at https://github.com/agiovann/Constrained_NMF/releases/download/v0.4-alpha/Patch_demo.zip\n",
    "and https://github.com/agiovann/Constrained_NMF\n",
    "\n",
    "\"\"\"\n",
    "from __future__ import division\n",
    "from __future__ import print_function\n",
    "#%%\n",
    "from builtins import str\n",
    "from builtins import range\n",
    "from past.utils import old_div\n",
    "try:\n",
    "    if __IPYTHON__:\n",
    "        # this is used for debugging purposes only. allows to reload classes when changed\n",
    "        get_ipython().magic('load_ext autoreload')\n",
    "        get_ipython().magic('autoreload 2')\n",
    "except NameError:       \n",
    "    print('Not IPYTHON')    \n",
    "    pass\n",
    "\n",
    "import sys\n",
    "import numpy as np\n",
    "from time import time\n",
    "from scipy.sparse import coo_matrix\n",
    "import psutil\n",
    "import glob\n",
    "import os\n",
    "import scipy\n",
    "from ipyparallel import Client\n",
    "import matplotlib as mpl\n",
    "#mpl.use('Qt5Agg')\n",
    "\n",
    "\n",
    "import pylab as pl\n",
    "pl.ion()\n",
    "\n",
    "import caiman as cm\n",
    "from caiman.components_evaluation import evaluate_components\n",
    "from caiman.utils.visualization import plot_contours,view_patches_bar,nb_plot_contour,nb_view_patches\n",
    "from caiman.base.rois import extract_binary_masks_blob\n",
    "import caiman.source_extraction.cnmf as cnmf\n",
    "\n",
    "import bokeh.plotting as bpl\n",
    "from bokeh.io import vform,hplot,vplot,gridplot\n",
    "from bokeh.models import CustomJS, ColumnDataSource, Slider"
   ]
  },
  {
   "cell_type": "code",
   "execution_count": 2,
   "metadata": {
    "collapsed": false
   },
   "outputs": [
    {
     "name": "stdout",
     "output_type": "stream",
     "text": [
      "using 12 processes\n",
      "C was not existing, creating one\n",
      "Stopping  cluster to avoid unnencessary use of memory....\n",
      "Stopping cluster...\n",
      "NOT SLURM\n",
      "No cluster to stop... done\n",
      "Starting cluster...Waiting for connection file: ~/.ipython/profile_default/security/ipcontroller-client.json\n",
      "............Using 12 processes\n"
     ]
    }
   ],
   "source": [
    "#%%\n",
    "import caiman as cm\n",
    "from caiman.components_evaluation import evaluate_components\n",
    "from caiman.utils.visualization import plot_contours,view_patches_bar\n",
    "from caiman.base.rois import extract_binary_masks_blob\n",
    "import caiman.source_extraction.cnmf as cnmf\n",
    "#%%\n",
    "# frame rate in Hz\n",
    "final_frate=10 \n",
    "\n",
    "#%%\n",
    "#backend='SLURM'\n",
    "backend='local'\n",
    "if backend == 'SLURM':\n",
    "    n_processes = np.int(os.environ.get('SLURM_NPROCS'))\n",
    "else:\n",
    "    n_processes = np.maximum(np.int(psutil.cpu_count()),1) # roughly number of cores on your machine minus 1\n",
    "print(('using ' + str(n_processes) + ' processes'))\n",
    "#%% start cluster for efficient computation\n",
    "single_thread=False\n",
    "\n",
    "if single_thread:\n",
    "    dview=None\n",
    "else:    \n",
    "    try:\n",
    "        c.close()\n",
    "    except:\n",
    "        print('C was not existing, creating one')\n",
    "    print(\"Stopping  cluster to avoid unnencessary use of memory....\")\n",
    "    sys.stdout.flush()  \n",
    "    if backend == 'SLURM':\n",
    "        try:\n",
    "            cm.stop_server(is_slurm=True)\n",
    "        except:\n",
    "            print('Nothing to stop')\n",
    "        slurm_script='/mnt/xfs1/home/agiovann/SOFTWARE/Constrained_NMF/SLURM/slurmStart.sh'\n",
    "        cm.start_server(slurm_script=slurm_script)\n",
    "        pdir, profile = os.environ['IPPPDIR'], os.environ['IPPPROFILE']\n",
    "        c = Client(ipython_dir=pdir, profile=profile)        \n",
    "    else:\n",
    "        cm.stop_server()\n",
    "        cm.start_server()        \n",
    "        c=Client()\n",
    "\n",
    "    print(('Using '+ str(len(c)) + ' processes'))\n",
    "    dview=c[:len(c)]"
   ]
  },
  {
   "cell_type": "code",
   "execution_count": 4,
   "metadata": {
    "collapsed": false
   },
   "outputs": [
    {
     "name": "stdout",
     "output_type": "stream",
     "text": [
      "['/home/absplab/Packages/CaImAn/AN150909OM290-1/AN150909OM290-1.tif']\n",
      "['/home/absplab/Packages/CaImAn/AN150909OM290-1/Yr0000_d1_88_d2_88_d3_1_order_C_frames_3000_.mmap']\n",
      "('/home/absplab/Packages/CaImAn/AN150909OM290-1/Yr0000_d1_256_d2_256_d3_1_order_C_frames_3000_.mmap', 3000)\n",
      "/home/absplab/Packages/CaImAn/AN150909OM290-1/Yr_d1_256_d2_256_d3_1_order_C_frames_3000_.mmap\n",
      "Deleting big mov\n",
      "/home/absplab/Packages/CaImAn/AN150909OM290-1/Yr_d1_256_d2_256_d3_1_order_C_frames_3000_.mmap\n"
     ]
    }
   ],
   "source": [
    "#%% FOR LOADING ALL TIFF FILES IN A FILE AND SAVING THEM ON A SINGLE MEMORY MAPPABLE FILE\n",
    "fnames=[]\n",
    "base_folder='/home/absplab/Packages/CaImAn/AN150909OM290-1'\n",
    "\n",
    "for file in glob.glob(os.path.join(base_folder,'*.tif')):\n",
    "    fnames.append(os.path.abspath(file))\n",
    "    \n",
    "fnames.sort()\n",
    "if len(fnames)==0:\n",
    "    raise Exception(\"Could not find any tiff file\")\n",
    "print(fnames)  \n",
    "fnames=fnames\n",
    "\n",
    "#%%\n",
    "idx_x=slice(12,100,None)\n",
    "idx_y=slice(12,100,None)\n",
    "idx_xy=(idx_x,idx_y)\n",
    "\n",
    "\n",
    "# check if there aren't already mapped files in the directory\n",
    "fnames_premapped = [os.path.abspath(file) for file in glob.glob(os.path.join(base_folder,'Yr_*'))]\n",
    "\n",
    "#if len(fnames_premapped) == 0:\n",
    "\n",
    "# this does just a selection and downsamples if you like\n",
    "downsample_factor=1 # use .2 or .1 if file is large and you want a quick answer\n",
    "base_name='Yr'\n",
    "name_new=cm.save_memmap_each(fnames, dview=dview, base_name=base_name, resize_fact=(1, 1, downsample_factor), remove_init=0, idx_xy=idx_xy)\n",
    "name_new.sort()\n",
    "\n",
    "print(name_new)\n",
    "\n",
    "# this does the whole thing\n",
    "name_new=cm.save_memmap_each(fnames, dview=dview,base_name='Yr', resize_fact=(1, 1, 1), remove_init=0, idx_xy=None)\n",
    "name_new.sort()\n",
    "fname_new=cm.save_memmap_join(name_new,base_name='Yr', n_chunks=12, dview=dview)\n",
    "\n",
    "#else:\n",
    "#    fname_new = fnames_premapped[0]\n",
    "    \n",
    "print(fname_new)"
   ]
  },
  {
   "cell_type": "code",
   "execution_count": 5,
   "metadata": {
    "collapsed": true
   },
   "outputs": [],
   "source": [
    "Yr,dims,T=cm.load_memmap(fname_new)\n",
    "d1,d2=dims\n",
    "Y=np.reshape(Yr,dims+(T,),order='F')"
   ]
  },
  {
   "cell_type": "code",
   "execution_count": 8,
   "metadata": {
    "collapsed": false
   },
   "outputs": [
    {
     "name": "stdout",
     "output_type": "stream",
     "text": [
      "256\n"
     ]
    }
   ],
   "source": [
    "print(d2)"
   ]
  },
  {
   "cell_type": "code",
   "execution_count": null,
   "metadata": {
    "collapsed": false
   },
   "outputs": [],
   "source": [
    "#%% visualize correlation image\n",
    "Cn = cm.local_correlations(Y)\n",
    "pl.imshow(Cn,cmap='gray')   "
   ]
  },
  {
   "cell_type": "code",
   "execution_count": null,
   "metadata": {
    "collapsed": true
   },
   "outputs": [],
   "source": [
    "rf=128 # half-size of the patches in pixels. rf=25, patches are 50x50\n",
    "stride = 64 #amounpl.it of overlap between the patches in pixels    \n",
    "K=50 # number of neurons expected per patch\n",
    "gSig=[7,7] # expected half size of neurons\n",
    "merge_thresh=0.8 # merging threshold, max correlation allowed\n",
    "p=2 #order of the autoregressive system\n",
    "memory_fact=1; #unitless number accounting how much memory should be used. You will need to try different values to see which one would work the default is OK for a 16 GB system\n",
    "save_results=True"
   ]
  },
  {
   "cell_type": "code",
   "execution_count": null,
   "metadata": {
    "collapsed": false
   },
   "outputs": [],
   "source": [
    "#%% RUN ALGORITHM ON PATCHES\n",
    "options_patch = cnmf.utilities.CNMFSetParms(Y,n_processes,p=0,gSig=gSig,K=K,ssub=1,tsub=4,nIter_patch=300,thr=merge_thresh)\n",
    "A_tot,C_tot,YrA_tot,b,f,sn_tot, optional_outputs = cnmf.map_reduce.run_CNMF_patches(fname_new, (d1, d2, T), options_patch,rf=rf,stride = stride,\n",
    "                                                                        dview=dview,memory_fact=memory_fact,gnb=1)\n",
    "\n",
    "#%%\n",
    "if save_results:\n",
    "    np.savez('results_WN150904OM269.npz',A_tot=A_tot.todense(), C_tot=C_tot, sn_tot=sn_tot,d1=d1,d2=d2,b=b,f=f)    "
   ]
  },
  {
   "cell_type": "code",
   "execution_count": null,
   "metadata": {
    "collapsed": true
   },
   "outputs": [],
   "source": [
    "with np.load('results_WN150904OM269.npz') as results:\n",
    "    A_tot = results['A_tot']\n",
    "    C_tot = results['C_tot']\n",
    "    sn_tot = results['sn_tot']\n",
    "    d1 = results['d1']\n",
    "    d2 = results['d2']\n",
    "    b = results['b']\n",
    "    f = results['f']"
   ]
  },
  {
   "cell_type": "code",
   "execution_count": null,
   "metadata": {
    "collapsed": false
   },
   "outputs": [],
   "source": [
    "A_tot = scipy.sparse.csc_matrix(A_tot)"
   ]
  },
  {
   "cell_type": "code",
   "execution_count": null,
   "metadata": {
    "collapsed": false
   },
   "outputs": [],
   "source": [
    "#%% if you have many components this might take long!\n",
    "pl.figure()\n",
    "crd = plot_contours(A_tot,Cn,thr=0.9)"
   ]
  },
  {
   "cell_type": "code",
   "execution_count": null,
   "metadata": {
    "collapsed": false
   },
   "outputs": [],
   "source": [
    "#%% set parameters for full field of view analysis\n",
    "options = cnmf.utilities.CNMFSetParms(Y,n_processes,p=0,gSig=gSig,K=A_tot.shape[-1],thr=merge_thresh)\n",
    "pix_proc=np.minimum(np.int((d1*d2)/n_processes/(old_div(T,2000.))),np.int(old_div((d1*d2),n_processes))) # regulates the amount of memory used\n",
    "options['spatial_params']['n_pixels_per_process']=pix_proc\n",
    "options['temporal_params']['n_pixels_per_process']=pix_proc\n",
    "\n",
    "#%% merge spatially overlaping and temporally correlated components      \n",
    "A_m,C_m,nr_m,merged_ROIs,S_m,bl_m,c1_m,sn_m,g_m=cnmf.merging.merge_components(Yr,A_tot,[],np.array(C_tot),[],np.array(C_tot),[],options['temporal_params'],options['spatial_params'],dview=dview,thr=options['merging']['thr'],mx=np.Inf)     \n",
    "\n",
    "#%% update temporal to get Y_r\n",
    "options['temporal_params']['p']=0\n",
    "options['temporal_params']['fudge_factor']=0.96 #change ifdenoised traces time constant is wrong\n",
    "options['temporal_params']['backend']='ipyparallel'\n",
    "C_m,f_m,S_m,bl_m,c1_m,neurons_sn_m,g2_m,YrA_m = cnmf.temporal.update_temporal_components(Yr,A_m,b,C_m,f,dview=dview,bl=None,c1=None,sn=None,g=None,**options['temporal_params'])\n"
   ]
  },
  {
   "cell_type": "code",
   "execution_count": null,
   "metadata": {
    "collapsed": false
   },
   "outputs": [],
   "source": [
    "#%% get rid of eventually noisy components. \n",
    "# But check by visual inspection to have a feeling fot the threshold. Try to be loose, you will be able to get rid of more of them later!\n",
    "tB = np.minimum(-2,np.floor(-5./30*final_frate))\n",
    "tA = np.maximum(5,np.ceil(25./30*final_frate))\n",
    "Npeaks=10\n",
    "traces=C_m+YrA_m\n",
    "#        traces_a=traces-scipy.ndimage.percentile_filter(traces,8,size=[1,np.shape(traces)[-1]/5])\n",
    "#        traces_b=np.diff(traces,axis=1)\n",
    "fitness_raw, fitness_delta, erfc_raw, erfc_delta, r_values, significant_samples = evaluate_components(Y, traces, A_m, C_m, b, f_m, final_frate=final_frate, remove_baseline=True, N=5, robust_std=False, Athresh = 0.1, Npeaks = Npeaks, thresh_C = 0.3)\n",
    "\n",
    "idx_components_r=np.where(r_values>=.5)[0]\n",
    "idx_components_raw=np.where(fitness_raw<-20)[0]        \n",
    "idx_components_delta=np.where(fitness_delta<-10)[0]   \n",
    "\n",
    "\n",
    "idx_components=np.union1d(idx_components_r,idx_components_raw)\n",
    "idx_components=np.union1d(idx_components,idx_components_delta)  \n",
    "idx_components_bad=np.setdiff1d(list(range(len(traces))),idx_components)\n",
    "\n",
    "print(' ***** ')\n",
    "print((len(traces)))\n",
    "print((len(idx_components)))"
   ]
  },
  {
   "cell_type": "code",
   "execution_count": null,
   "metadata": {
    "collapsed": false
   },
   "outputs": [],
   "source": [
    "#%%\n",
    "A_m=A_m[:,idx_components]\n",
    "C_m=C_m[idx_components,:]   \n",
    "\n",
    "#%% display components  DO NOT RUN IF YOU HAVE TOO MANY COMPONENTS\n",
    "pl.figure()\n",
    "crd = plot_contours(A_m,Cn,thr=0.9)\n",
    "\n",
    "#%%\n",
    "print(('Number of components:' + str(A_m.shape[-1])))"
   ]
  },
  {
   "cell_type": "code",
   "execution_count": null,
   "metadata": {
    "collapsed": false
   },
   "outputs": [],
   "source": [
    "#%% UPDATE SPATIAL COMPONENTS\n",
    "A2,b2,C2 = cnmf.spatial.update_spatial_components(Yr, C_m, f, A_m, sn=sn_tot,dview=dview, **options['spatial_params'])"
   ]
  },
  {
   "cell_type": "code",
   "execution_count": null,
   "metadata": {
    "collapsed": false
   },
   "outputs": [],
   "source": [
    "#%% UPDATE TEMPORAL COMPONENTS\n",
    "options['temporal_params']['p']=p\n",
    "options['temporal_params']['fudge_factor']=0.96 #change if denoised traces time constant is wrong\n",
    "C2,f2,S2,bl2,c12,neurons_sn2,g21,YrA = cnmf.temporal.update_temporal_components(Yr,A2,b2,C2,f,dview=dview, bl=None,c1=None,sn=None,g=None,**options['temporal_params'])\n",
    "    "
   ]
  },
  {
   "cell_type": "code",
   "execution_count": null,
   "metadata": {
    "collapsed": true
   },
   "outputs": [],
   "source": [
    "#%% stop server and remove log files\n",
    "log_files=glob.glob('Yr*_LOG_*')\n",
    "for log_file in log_files:\n",
    "    os.remove(log_file)"
   ]
  },
  {
   "cell_type": "code",
   "execution_count": null,
   "metadata": {
    "collapsed": false
   },
   "outputs": [],
   "source": [
    "#%% order components according to a quality threshold and only select the ones wiht qualitylarger than quality_threshold. \n",
    "B = np.minimum(-2,np.floor(-5./30*final_frate))\n",
    "tA = np.maximum(5,np.ceil(25./30*final_frate))\n",
    "Npeaks=10\n",
    "traces=C2+YrA\n",
    "#        traces_a=traces-scipy.ndimage.percentile_filter(traces,8,size=[1,np.shape(traces)[-1]/5])\n",
    "#        traces_b=np.diff(traces,axis=1)\n",
    "fitness_raw, fitness_delta, erfc_raw, erfc_delta, r_values, significant_samples = evaluate_components(Y, traces, A2, C2, b2, f2, final_frate=final_frate, remove_baseline=True, N=5, robust_std=False, Athresh = 0.1, Npeaks = Npeaks, thresh_C = 0.3)\n",
    "\n",
    "idx_components_r=np.where(r_values>=.6)[0]\n",
    "idx_components_raw=np.where(fitness_raw<-60)[0]        \n",
    "idx_components_delta=np.where(fitness_delta<-20)[0]   \n",
    "\n",
    "min_radius=gSig[0]-2\n",
    "masks_ws,idx_blobs,idx_non_blobs=extract_binary_masks_blob(\n",
    "A2.tocsc(), min_radius, dims, num_std_threshold=1, \n",
    "minCircularity= 0.6, minInertiaRatio = 0.2,minConvexity =.8)\n",
    "\n",
    "idx_components=np.union1d(idx_components_r,idx_components_raw)\n",
    "idx_components=np.union1d(idx_components,idx_components_delta)  \n",
    "idx_blobs=np.intersect1d(idx_components,idx_blobs)   \n",
    "idx_components_bad=np.setdiff1d(list(range(len(traces))),idx_components)\n",
    "\n",
    "print(' ***** ')\n",
    "print((len(traces)))\n",
    "print((len(idx_components)))\n",
    "print((len(idx_blobs)))"
   ]
  },
  {
   "cell_type": "code",
   "execution_count": null,
   "metadata": {
    "collapsed": false
   },
   "outputs": [],
   "source": [
    "#%% visualize components\n",
    "#pl.figure();\n",
    "pl.subplot(1,3,1)\n",
    "crd = plot_contours(A2.tocsc()[:,idx_components],Cn,thr=0.9)\n",
    "pl.subplot(1,3,2)\n",
    "crd = plot_contours(A2.tocsc()[:,idx_blobs],Cn,thr=0.9)\n",
    "pl.subplot(1,3,3)\n",
    "crd = plot_contours(A2.tocsc()[:,idx_components_bad],Cn,thr=0.9)\n",
    "#%%\n",
    "view_patches_bar(Yr,scipy.sparse.coo_matrix(A2.tocsc()[:,idx_components]),C2[idx_components,:],b2,f2, dims[0],dims[1], YrA=YrA[idx_components,:],img=Cn)  \n",
    "#%%\n",
    "view_patches_bar(Yr,scipy.sparse.coo_matrix(A2.tocsc()[:,idx_components_bad]),C2[idx_components_bad,:],b2,f2, dims[0],dims[1], YrA=YrA[idx_components_bad,:],img=Cn)  "
   ]
  },
  {
   "cell_type": "code",
   "execution_count": null,
   "metadata": {
    "collapsed": false
   },
   "outputs": [],
   "source": [
    "bpl.output_notebook()\n",
    "\n",
    "traces_fluo=nb_view_patches(Yr,A2.tocsc().todense(),C2,b2,f2,dims[0],dims[1],thr = 0.8,image_neurons=None)"
   ]
  },
  {
   "cell_type": "code",
   "execution_count": null,
   "metadata": {
    "collapsed": true
   },
   "outputs": [],
   "source": [
    "#%% STOP CLUSTER\n",
    "pl.close()\n",
    "if not single_thread:    \n",
    "    c.close()\n",
    "    cm.stop_server()"
   ]
  },
  {
   "cell_type": "markdown",
   "metadata": {},
   "source": [
    "# can I set this up to display only the components from a certain window in the frame? That way the analysis is whatever but the view can be changed nicely"
   ]
  },
  {
   "cell_type": "code",
   "execution_count": null,
   "metadata": {
    "collapsed": false
   },
   "outputs": [],
   "source": [
    "\n",
    "pl.subplot(1,2,1)\n",
    "mpl.pyplot.imshow(A2.todense()[:,0].reshape(1024,1024)[13:50+2,52:81],interpolation='none')\n",
    "pl.subplot(1,2,2)\n",
    "mpl.pyplot.imshow(A2.todense()[:,1].reshape(1024,1024)[16:62+2,46:76],interpolation='none')\n",
    "\n",
    "mpl.pyplot.show()\n",
    "\n",
    "\n",
    "\n",
    "print(A2)"
   ]
  },
  {
   "cell_type": "code",
   "execution_count": null,
   "metadata": {
    "collapsed": false
   },
   "outputs": [],
   "source": [
    "comp = 199\n",
    "idx = np.where(A2.todense()[:,comp].reshape(1024,1024) > 0)\n",
    "mpl.pyplot.imshow(A2.todense()[:,comp].reshape(1024,1024)[min(idx[0]):max(idx[0]),min(idx[1]):max(idx[1])],interpolation='none')\n",
    "\n"
   ]
  },
  {
   "cell_type": "code",
   "execution_count": null,
   "metadata": {
    "collapsed": false
   },
   "outputs": [],
   "source": [
    "A2.todense().shape"
   ]
  }
 ],
 "metadata": {
  "anaconda-cloud": {},
  "kernelspec": {
   "display_name": "Python [conda env:CNMF]",
   "language": "python",
   "name": "conda-env-CNMF-py"
  },
  "language_info": {
   "codemirror_mode": {
    "name": "ipython",
    "version": 2
   },
   "file_extension": ".py",
   "mimetype": "text/x-python",
   "name": "python",
   "nbconvert_exporter": "python",
   "pygments_lexer": "ipython2",
   "version": "2.7.12"
  },
  "nbpresent": {
   "slides": {
    "033b33ee-857f-4cc9-838f-0a655a7b1892": {
     "id": "033b33ee-857f-4cc9-838f-0a655a7b1892",
     "prev": null,
     "regions": {
      "473f6829-daf2-4398-9d75-00630e11ea8e": {
       "attrs": {
        "height": 0.8,
        "width": 0.8,
        "x": 0.1,
        "y": 0.1
       },
       "content": {
        "cell": "4ae410b2-ad9f-4dd7-bdf8-4d8cfcd03826",
        "part": "whole"
       },
       "id": "473f6829-daf2-4398-9d75-00630e11ea8e"
      }
     }
    },
    "04b6f1a9-60ed-46cc-935c-9c296755e636": {
     "id": "04b6f1a9-60ed-46cc-935c-9c296755e636",
     "prev": "e6fc25c9-ae65-4047-b0fc-be42c80f9a4f",
     "regions": {
      "8a694352-aa3f-4485-ac0f-def180752082": {
       "attrs": {
        "height": 0.8,
        "width": 0.8,
        "x": 0.1,
        "y": 0.1
       },
       "content": {
        "cell": "8331fd21-e414-4967-a7e5-ff68443ab857",
        "part": "whole"
       },
       "id": "8a694352-aa3f-4485-ac0f-def180752082"
      }
     }
    },
    "04fe463e-eac4-4a59-b99b-415949101210": {
     "id": "04fe463e-eac4-4a59-b99b-415949101210",
     "prev": "6d2b7e9b-9ec5-4690-bdb3-e21e4df4b4e8",
     "regions": {
      "cef16a62-9243-400a-9f54-2a53b690db29": {
       "attrs": {
        "height": 0.8,
        "width": 0.8,
        "x": 0.1,
        "y": 0.1
       },
       "content": {
        "cell": "500ced2c-9d78-4b70-9d38-fc0525097331",
        "part": "whole"
       },
       "id": "cef16a62-9243-400a-9f54-2a53b690db29"
      }
     }
    },
    "0cc04b5e-d7fe-491e-9f85-bae6bddcdbf7": {
     "id": "0cc04b5e-d7fe-491e-9f85-bae6bddcdbf7",
     "prev": "a9410d2d-9a3b-4b2d-94df-a436b45b1b14",
     "regions": {
      "b7ea1b00-831e-4675-a9a9-523999e13359": {
       "attrs": {
        "height": 0.8,
        "width": 0.8,
        "x": 0.1,
        "y": 0.1
       },
       "content": {
        "cell": "43ed6bf7-ae55-403a-b8da-acf1015a8e65",
        "part": "whole"
       },
       "id": "b7ea1b00-831e-4675-a9a9-523999e13359"
      }
     }
    },
    "1739e301-94f3-43b3-ad75-207da0685183": {
     "id": "1739e301-94f3-43b3-ad75-207da0685183",
     "prev": "a4d43450-4093-4fcf-8f96-b48f9be2013b",
     "regions": {
      "4cffaddd-6491-4fb1-a52b-8cab32549ab0": {
       "attrs": {
        "height": 0.8,
        "width": 0.8,
        "x": 0.1,
        "y": 0.1
       },
       "content": {
        "cell": "95ff20a1-c0d6-474f-b176-2b947b106ef2",
        "part": "whole"
       },
       "id": "4cffaddd-6491-4fb1-a52b-8cab32549ab0"
      }
     }
    },
    "2863241c-f122-4766-b7ef-ef0437a0a00f": {
     "id": "2863241c-f122-4766-b7ef-ef0437a0a00f",
     "prev": "ca93e02e-3efd-47d9-b829-733357f39747",
     "regions": {
      "242ce634-036b-4c1b-b239-719f6febbc67": {
       "attrs": {
        "height": 0.8,
        "width": 0.8,
        "x": 0.1,
        "y": 0.1
       },
       "content": {
        "cell": "9f873f7f-9588-4299-ad18-7faf65f35866",
        "part": "whole"
       },
       "id": "242ce634-036b-4c1b-b239-719f6febbc67"
      }
     }
    },
    "2e1b7c6b-3d44-425e-a754-03fea3dd4150": {
     "id": "2e1b7c6b-3d44-425e-a754-03fea3dd4150",
     "prev": "e0ec8075-350e-4081-80c4-d1ac5a088903",
     "regions": {
      "49eef510-9fe5-431f-b1a5-d02171de4bbc": {
       "attrs": {
        "height": 0.8,
        "width": 0.8,
        "x": 0.1,
        "y": 0.1
       },
       "content": {
        "cell": "10f14ce5-bca2-4ed4-b3e9-bf05ca650080",
        "part": "whole"
       },
       "id": "49eef510-9fe5-431f-b1a5-d02171de4bbc"
      }
     }
    },
    "3c788b68-5ec9-4824-8419-60bfcd9b5c39": {
     "id": "3c788b68-5ec9-4824-8419-60bfcd9b5c39",
     "prev": "7579a295-f2b8-4da9-872c-c57a83632080",
     "regions": {
      "076b5487-2d94-486f-99f8-02f1097654ee": {
       "attrs": {
        "height": 0.8,
        "width": 0.8,
        "x": 0.1,
        "y": 0.1
       },
       "content": {
        "cell": "5ed4a1ce-9f01-420a-af0b-57693cf28c14",
        "part": "whole"
       },
       "id": "076b5487-2d94-486f-99f8-02f1097654ee"
      }
     }
    },
    "46c17a58-2dd1-4be2-ae53-ed65869b6f94": {
     "id": "46c17a58-2dd1-4be2-ae53-ed65869b6f94",
     "prev": "04fe463e-eac4-4a59-b99b-415949101210",
     "regions": {
      "3b1e5b8b-e195-4d6a-b5a4-951dc8656496": {
       "attrs": {
        "height": 0.8,
        "width": 0.8,
        "x": 0.1,
        "y": 0.1
       },
       "content": {
        "cell": "b287a09c-ada7-4af6-b810-cf00d48a29f1",
        "part": "whole"
       },
       "id": "3b1e5b8b-e195-4d6a-b5a4-951dc8656496"
      }
     }
    },
    "58328061-8bc1-4dc3-802f-dc99690c4b82": {
     "id": "58328061-8bc1-4dc3-802f-dc99690c4b82",
     "prev": "ccc7ec94-d6db-4aa7-8f71-0beb9116cd37",
     "regions": {
      "d181ade0-b120-4ebc-8185-d038d11439ac": {
       "attrs": {
        "height": 0.8,
        "width": 0.8,
        "x": 0.1,
        "y": 0.1
       },
       "content": {
        "cell": "6504a64f-a2de-4fbc-b701-a340ba95833d",
        "part": "whole"
       },
       "id": "d181ade0-b120-4ebc-8185-d038d11439ac"
      }
     }
    },
    "64ce206d-6727-4064-a890-b42262caa3fc": {
     "id": "64ce206d-6727-4064-a890-b42262caa3fc",
     "prev": "46c17a58-2dd1-4be2-ae53-ed65869b6f94",
     "regions": {
      "65646965-2c00-4196-b409-5ebcf6c1619d": {
       "attrs": {
        "height": 0.8,
        "width": 0.8,
        "x": 0.1,
        "y": 0.1
       },
       "content": {
        "cell": "5da23ac8-08cb-4c12-8e9e-94b00b412d54",
        "part": "whole"
       },
       "id": "65646965-2c00-4196-b409-5ebcf6c1619d"
      }
     }
    },
    "6d2b7e9b-9ec5-4690-bdb3-e21e4df4b4e8": {
     "id": "6d2b7e9b-9ec5-4690-bdb3-e21e4df4b4e8",
     "prev": "04b6f1a9-60ed-46cc-935c-9c296755e636",
     "regions": {
      "1fd11931-a8b4-4d23-967c-a6398016ece2": {
       "attrs": {
        "height": 0.8,
        "width": 0.8,
        "x": 0.1,
        "y": 0.1
       },
       "content": {
        "cell": "752234ed-e544-40ee-a805-e9f8272dc999",
        "part": "whole"
       },
       "id": "1fd11931-a8b4-4d23-967c-a6398016ece2"
      }
     }
    },
    "7579a295-f2b8-4da9-872c-c57a83632080": {
     "id": "7579a295-f2b8-4da9-872c-c57a83632080",
     "prev": "79307bce-aa93-4bc9-894c-efe4e8a8ab4c",
     "regions": {
      "bdc36c05-4652-406e-8873-2ec003b31529": {
       "attrs": {
        "height": 0.8,
        "width": 0.8,
        "x": 0.1,
        "y": 0.1
       },
       "content": {
        "cell": "f3c3780c-5e46-4b95-994c-0f2d6353e3b1",
        "part": "whole"
       },
       "id": "bdc36c05-4652-406e-8873-2ec003b31529"
      }
     }
    },
    "79307bce-aa93-4bc9-894c-efe4e8a8ab4c": {
     "id": "79307bce-aa93-4bc9-894c-efe4e8a8ab4c",
     "prev": "a1822a91-a7e9-4e1b-bf47-8604b41ce180",
     "regions": {
      "8ce0deb0-5989-4dbb-91a1-3c61058b1ebd": {
       "attrs": {
        "height": 0.8,
        "width": 0.8,
        "x": 0.1,
        "y": 0.1
       },
       "content": {
        "cell": "b1faf838-8317-4e26-b039-20e1ec5076e0",
        "part": "whole"
       },
       "id": "8ce0deb0-5989-4dbb-91a1-3c61058b1ebd"
      }
     }
    },
    "a1822a91-a7e9-4e1b-bf47-8604b41ce180": {
     "id": "a1822a91-a7e9-4e1b-bf47-8604b41ce180",
     "prev": "ac07076b-a3fd-4843-b324-f93b7c6d3641",
     "regions": {
      "0eabf72e-3f16-4169-a4d8-e294117b2f2e": {
       "attrs": {
        "height": 0.8,
        "width": 0.8,
        "x": 0.1,
        "y": 0.1
       },
       "content": {
        "cell": "72ca50fe-5cdb-461f-82cc-1292e91810a2",
        "part": "whole"
       },
       "id": "0eabf72e-3f16-4169-a4d8-e294117b2f2e"
      }
     }
    },
    "a4d43450-4093-4fcf-8f96-b48f9be2013b": {
     "id": "a4d43450-4093-4fcf-8f96-b48f9be2013b",
     "prev": "2e1b7c6b-3d44-425e-a754-03fea3dd4150",
     "regions": {
      "ff352440-5c13-454a-a156-32e538cbd7c6": {
       "attrs": {
        "height": 0.8,
        "width": 0.8,
        "x": 0.1,
        "y": 0.1
       },
       "content": {
        "cell": "4cfb9b62-1179-4f23-8f30-0a625dc6f5ab",
        "part": "whole"
       },
       "id": "ff352440-5c13-454a-a156-32e538cbd7c6"
      }
     }
    },
    "a8726e5a-3d4a-40fb-922d-6e1f32c52edf": {
     "id": "a8726e5a-3d4a-40fb-922d-6e1f32c52edf",
     "prev": "1739e301-94f3-43b3-ad75-207da0685183",
     "regions": {
      "be6d88e5-9fb0-45d2-80ce-7753b7d045cd": {
       "attrs": {
        "height": 0.8,
        "width": 0.8,
        "x": 0.1,
        "y": 0.1
       },
       "content": {
        "cell": "a5a867de-99d6-4d4e-9ace-e61b3c497614",
        "part": "whole"
       },
       "id": "be6d88e5-9fb0-45d2-80ce-7753b7d045cd"
      }
     }
    },
    "a9410d2d-9a3b-4b2d-94df-a436b45b1b14": {
     "id": "a9410d2d-9a3b-4b2d-94df-a436b45b1b14",
     "prev": "64ce206d-6727-4064-a890-b42262caa3fc",
     "regions": {
      "5cf0bbe9-0d9a-4106-8a14-eeeb639d3718": {
       "attrs": {
        "height": 0.8,
        "width": 0.8,
        "x": 0.1,
        "y": 0.1
       },
       "content": {
        "cell": "f8c66eb1-6167-4f57-84b5-dac3fb885f9c",
        "part": "whole"
       },
       "id": "5cf0bbe9-0d9a-4106-8a14-eeeb639d3718"
      }
     }
    },
    "ac07076b-a3fd-4843-b324-f93b7c6d3641": {
     "id": "ac07076b-a3fd-4843-b324-f93b7c6d3641",
     "prev": "58328061-8bc1-4dc3-802f-dc99690c4b82",
     "regions": {
      "23cc5261-0fb7-4baa-8eef-708d49b5a4c9": {
       "attrs": {
        "height": 0.8,
        "width": 0.8,
        "x": 0.1,
        "y": 0.1
       },
       "content": {
        "cell": "2f5108e5-c334-4bed-9798-56c5e0348c14",
        "part": "whole"
       },
       "id": "23cc5261-0fb7-4baa-8eef-708d49b5a4c9"
      }
     }
    },
    "ca93e02e-3efd-47d9-b829-733357f39747": {
     "id": "ca93e02e-3efd-47d9-b829-733357f39747",
     "prev": "0cc04b5e-d7fe-491e-9f85-bae6bddcdbf7",
     "regions": {
      "3d1b7255-1a98-4172-aa10-81c2fb418d25": {
       "attrs": {
        "height": 0.8,
        "width": 0.8,
        "x": 0.1,
        "y": 0.1
       },
       "content": {
        "cell": "c837109a-41db-4c3d-ac2b-12ec5e6603fe",
        "part": "whole"
       },
       "id": "3d1b7255-1a98-4172-aa10-81c2fb418d25"
      }
     }
    },
    "ccc7ec94-d6db-4aa7-8f71-0beb9116cd37": {
     "id": "ccc7ec94-d6db-4aa7-8f71-0beb9116cd37",
     "prev": "2863241c-f122-4766-b7ef-ef0437a0a00f",
     "regions": {
      "d7b698a3-d71c-407e-b718-f013345519cd": {
       "attrs": {
        "height": 0.8,
        "width": 0.8,
        "x": 0.1,
        "y": 0.1
       },
       "content": {
        "cell": "45e31399-065d-4d54-bc9b-e19f8a2e45e5",
        "part": "whole"
       },
       "id": "d7b698a3-d71c-407e-b718-f013345519cd"
      }
     }
    },
    "e0ec8075-350e-4081-80c4-d1ac5a088903": {
     "id": "e0ec8075-350e-4081-80c4-d1ac5a088903",
     "prev": "e2e17165-4357-4ae6-8efb-f4f7b3a6d2c3",
     "regions": {
      "f90e762b-c4e9-4235-974b-522b20adaf8a": {
       "attrs": {
        "height": 0.8,
        "width": 0.8,
        "x": 0.1,
        "y": 0.1
       },
       "content": {
        "cell": "86db9fe0-5c73-452b-b989-4f1ef408d080",
        "part": "whole"
       },
       "id": "f90e762b-c4e9-4235-974b-522b20adaf8a"
      }
     }
    },
    "e2e17165-4357-4ae6-8efb-f4f7b3a6d2c3": {
     "id": "e2e17165-4357-4ae6-8efb-f4f7b3a6d2c3",
     "prev": "033b33ee-857f-4cc9-838f-0a655a7b1892",
     "regions": {
      "d8e97c40-5af8-4540-ab9c-3fa689f99466": {
       "attrs": {
        "height": 0.8,
        "width": 0.8,
        "x": 0.1,
        "y": 0.1
       },
       "content": {
        "cell": "390a2900-669a-40b2-9667-af70d7ee24f8",
        "part": "whole"
       },
       "id": "d8e97c40-5af8-4540-ab9c-3fa689f99466"
      }
     }
    },
    "e6fc25c9-ae65-4047-b0fc-be42c80f9a4f": {
     "id": "e6fc25c9-ae65-4047-b0fc-be42c80f9a4f",
     "prev": "a8726e5a-3d4a-40fb-922d-6e1f32c52edf",
     "regions": {
      "cd246863-a5d1-48c8-8092-a31848a68feb": {
       "attrs": {
        "height": 0.8,
        "width": 0.8,
        "x": 0.1,
        "y": 0.1
       },
       "content": {
        "cell": "9d185420-3280-4720-9bf1-21cd65a3ae85",
        "part": "whole"
       },
       "id": "cd246863-a5d1-48c8-8092-a31848a68feb"
      }
     }
    }
   },
   "themes": {}
  }
 },
 "nbformat": 4,
 "nbformat_minor": 1
}
