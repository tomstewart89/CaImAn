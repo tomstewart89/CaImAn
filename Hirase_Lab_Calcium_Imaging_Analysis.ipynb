{
 "cells": [
  {
   "cell_type": "code",
   "execution_count": null,
   "metadata": {
    "collapsed": false
   },
   "outputs": [],
   "source": [
    "from __future__ import division\n",
    "from __future__ import print_function\n",
    "\n",
    "from builtins import str\n",
    "from builtins import range\n",
    "from past.utils import old_div\n",
    "\n",
    "try:\n",
    "    if __IPYTHON__:\n",
    "        # this is used for debugging purposes only. allows to reload classes when changed\n",
    "        get_ipython().magic('load_ext autoreload')\n",
    "        get_ipython().magic('autoreload 2')\n",
    "except NameError:       \n",
    "    print('Not IPYTHON')    \n",
    "    pass\n",
    "\n",
    "# Import the usual suspects\n",
    "import sys\n",
    "import numpy as np\n",
    "from time import time\n",
    "from scipy.sparse import coo_matrix\n",
    "import psutil\n",
    "import glob\n",
    "import os\n",
    "import scipy\n",
    "from ipyparallel import Client\n",
    "import matplotlib as mpl\n",
    "import pylab as pl\n",
    "pl.ion()\n",
    "from IPython.display import clear_output\n",
    "\n",
    "# Import the relevant files from CaImAn\n",
    "import caiman as cm\n",
    "from caiman.components_evaluation import evaluate_components\n",
    "from caiman.utils.visualization import plot_contours,view_patches_bar,nb_plot_contour,nb_view_patches\n",
    "from caiman.base.rois import extract_binary_masks_blob\n",
    "import caiman.source_extraction.cnmf as cnmf\n",
    "\n",
    "# Import bokeh - for doing interactive plotting on our components later\n",
    "import bokeh.plotting as bpl\n",
    "from bokeh.io import vform,hplot,vplot,gridplot\n",
    "from bokeh.models import CustomJS, ColumnDataSource, Slider"
   ]
  },
  {
   "cell_type": "markdown",
   "metadata": {},
   "source": [
    "# Start the IPyParallel Cluster"
   ]
  },
  {
   "cell_type": "code",
   "execution_count": null,
   "metadata": {
    "collapsed": false
   },
   "outputs": [],
   "source": [
    "n_processes = np.maximum(np.int(psutil.cpu_count()),1) # roughly number of cores on your machine minus 1\n",
    "print(('using ' + str(n_processes) + ' processes'))\n",
    "\n",
    "single_thread=False\n",
    "\n",
    "if single_thread:\n",
    "    dview=None\n",
    "else:    \n",
    "    try:\n",
    "        c.close()\n",
    "    except:\n",
    "        print('C was not existing, creating one')\n",
    "        \n",
    "    print(\"Stopping  cluster to avoid unnencessary use of memory....\")\n",
    "    sys.stdout.flush()  \n",
    "\n",
    "    cm.stop_server()\n",
    "    cm.start_server()        \n",
    "    c=Client()\n",
    "\n",
    "\n",
    "    print(('Using '+ str(len(c)) + ' processes'))\n",
    "    dview=c[:len(c)]"
   ]
  },
  {
   "cell_type": "markdown",
   "metadata": {},
   "source": [
    "# Load all the tiff Files Into a Single Memory Mappable File"
   ]
  },
  {
   "cell_type": "code",
   "execution_count": null,
   "metadata": {
    "collapsed": false
   },
   "outputs": [],
   "source": [
    "base_name = '170201OM421'\n",
    "base_folder = '/home/absplab/Desktop/datasets/170201OM421'\n",
    "force_remap = True\n",
    "\n",
    "subwindow = (slice(0,1024), slice(0,1024)) # set to None for the full window\n",
    "downsample_factor = 1 # use .2 or .1 if file is large and you want a quick answer\n",
    "remove_init = 0\n",
    "\n",
    "# check if there aren't already mapped files in the directory\n",
    "pre_mapped_files = [os.path.abspath(file) for file in glob.glob(os.path.join(base_folder,base_name +'_*'))]\n",
    "\n",
    "# if there were and we're don't want to repl170201OM421ace them, just take the first file name matching 'Yr_' as the memmap name\n",
    "if len(pre_mapped_files) and not force_remap:\n",
    "    \n",
    "    mmap_file_name = pre_mapped_files[0]\n",
    "    print('Using premapped file of name: ' + mmap_file_name)\n",
    "    print('Set force_remap to True to refresh this file')\n",
    "\n",
    "# otherwise we fish out all the tif files in the directory and pass them to save_memmap_each \n",
    "# for memmapping and then join them into a single file with save_memmap_join\n",
    "else:\n",
    "    print('Remapping was forced or no memmapped file could be found, remapping...')\n",
    "\n",
    "    tif_files = [os.path.abspath(file) for file in glob.glob(os.path.join(base_folder,'*.tif'))]\n",
    "\n",
    "    if len(tif_files) == 0:\n",
    "        raise Exception(\"No tif files were found in the specified directory\")\n",
    "\n",
    "    tif_files.sort()\n",
    "\n",
    "    mmap_files = cm.save_memmap_each(tif_files, dview=dview, base_name=base_name, resize_fact=(1, 1, downsample_factor), remove_init=remove_init, idx_xy=subwindow)\n",
    "    mmap_files.sort()\n",
    "    mmap_file_name = cm.save_memmap_join(mmap_files, base_name=base_name, n_chunks=12, dview=dview)\n",
    "\n",
    "    print('Using memmap file of name: ' + mmap_file_name)"
   ]
  },
  {
   "cell_type": "code",
   "execution_count": null,
   "metadata": {
    "collapsed": false
   },
   "outputs": [],
   "source": [
    "Yr, Y = [], []\n",
    "Yr, dims, T = cm.load_memmap(mmap_file_name)\n",
    "Y = np.reshape(Yr, dims+(T,), order='F')"
   ]
  },
  {
   "cell_type": "markdown",
   "metadata": {},
   "source": [
    "# Visualise the Correlation Image"
   ]
  },
  {
   "cell_type": "code",
   "execution_count": null,
   "metadata": {
    "collapsed": false
   },
   "outputs": [],
   "source": [
    "Cn = cm.local_correlations(Y)\n",
    "pl.imshow(Cn,cmap='jet',interpolation='none')"
   ]
  },
  {
   "cell_type": "markdown",
   "metadata": {},
   "source": [
    "# Parameterise the Analysis"
   ]
  },
  {
   "cell_type": "code",
   "execution_count": null,
   "metadata": {
    "collapsed": false
   },
   "outputs": [],
   "source": [
    "# frame rate in Hz\n",
    "final_frate = 10 \n",
    "\n",
    "# half-size of the patches in pixels. rf=128, patches are 256x256\n",
    "rf = 128\n",
    "\n",
    "# amount of overlap between the patches in pixels    \n",
    "stride = 64 \n",
    "\n",
    "# number of neurons expected per patch\n",
    "K = 20\n",
    "\n",
    "# expected half size of neurons\n",
    "gSig = [10,10] \n",
    "\n",
    "# merging threshold, max correlation allowed\n",
    "merge_thresh = 0.8 \n",
    "\n",
    "# order of the autoregressive system\n",
    "p = 2\n",
    "\n",
    "# unitless number accounting how much memory should be used.\n",
    "memory_fact = 1\n",
    "\n",
    "# save filename for results (set to None to skip save)\n",
    "save_file = 'results_170201OM421.npz'\n",
    "\n",
    "# populate the 'options' dictionary\n",
    "options_patch = cnmf.utilities.CNMFSetParms((dims, T), n_processes, p=0, gSig=gSig, K=K, ssub=1, tsub=4, nIter_patch=10, thr=merge_thresh)"
   ]
  },
  {
   "cell_type": "markdown",
   "metadata": {},
   "source": [
    "# Run the Analysis on the Patches\n",
    "\n",
    "This divides the FOV up into overlapping patches and runs the CNMF on each. Each spatial component extracted from each patch is projected onto the full field of view and stored as a component in A. As a result, A at this point will be full of lots of overlapping components"
   ]
  },
  {
   "cell_type": "code",
   "execution_count": null,
   "metadata": {
    "collapsed": false
   },
   "outputs": [],
   "source": [
    "A, C, YrA, b, f, sn, optional_outputs = cnmf.map_reduce.run_CNMF_patches(mmap_file_name, (dims[0], dims[1], T), options_patch, rf=rf, stride=stride, dview=dview, memory_fact=memory_fact, gnb=1)\n",
    "\n",
    "if save_file is not None:\n",
    "    np.savez(save_file, A=A.todense(), C=C, sn=sn, b=b, f=f, dims=dims, T=T)"
   ]
  },
  {
   "cell_type": "markdown",
   "metadata": {
    "collapsed": true
   },
   "source": [
    "# Or Load Results from a Numpy File"
   ]
  },
  {
   "cell_type": "code",
   "execution_count": null,
   "metadata": {
    "collapsed": true
   },
   "outputs": [],
   "source": [
    "if save_file is not None:\n",
    "    with np.load(save_file) as res:\n",
    "        A = scipy.sparse.csr.csr_matrix(res['A'])\n",
    "        C, sn, b, f, dims, T = res['C'], res['sn'], res['b'], res['f'], res['dims'], res['T']"
   ]
  },
  {
   "cell_type": "markdown",
   "metadata": {},
   "source": [
    "# Now Reconfigure the Analysis to Look at the Full Window"
   ]
  },
  {
   "cell_type": "code",
   "execution_count": null,
   "metadata": {
    "collapsed": false
   },
   "outputs": [],
   "source": [
    "options_full = cnmf.utilities.CNMFSetParms(Y, n_processes, p=0, gSig=gSig, K=A.shape[-1], thr=merge_thresh)\n",
    "\n",
    "# regulates the amount of memory used\n",
    "pixels_per_process = np.minimum(np.int(np.prod(dims)/n_processes/(old_div(T,2000.))), np.int(old_div(np.prod(dims),n_processes)))\n",
    "options_full['spatial_params']['n_pixels_per_process'] = pixels_per_process\n",
    "options_full['temporal_params']['n_pixels_per_process'] = pixels_per_process\n",
    "\n",
    "options_full['temporal_params']['p'] = 0\n",
    "options_full['temporal_params']['fudge_factor'] = 0.96 #change if denoised traces time constant is wrong\n",
    "options_full['temporal_params']['backend']='ipyparallel'"
   ]
  },
  {
   "cell_type": "markdown",
   "metadata": {},
   "source": [
    "# Merge Spatially Overlaping and Temporally Correlated Components"
   ]
  },
  {
   "cell_type": "code",
   "execution_count": null,
   "metadata": {
    "collapsed": false
   },
   "outputs": [],
   "source": [
    "A, C, nr, merged_ROIs, S, bl, c1, sn_merged, g = cnmf.merging.merge_components(Yr,A,[],np.array(C),[],np.array(C),[],options_full['temporal_params'],options_full['spatial_params'],dview=dview,thr=options_full['merging']['thr'],mx=np.Inf)   "
   ]
  },
  {
   "cell_type": "markdown",
   "metadata": {},
   "source": [
    "# Update the Temporal Components to get Yr"
   ]
  },
  {
   "cell_type": "code",
   "execution_count": null,
   "metadata": {
    "collapsed": false
   },
   "outputs": [],
   "source": [
    "C, f, S, bl, c1, neurons_sn, g2, YrA = cnmf.temporal.update_temporal_components(Yr, A, b, C, f, dview=dview, bl=None, c1=None, sn=None, g=None, **options_full['temporal_params'])"
   ]
  },
  {
   "cell_type": "code",
   "execution_count": null,
   "metadata": {
    "collapsed": false
   },
   "outputs": [],
   "source": [
    "traces = C + YrA\n",
    "\n",
    "fitness_raw, fitness_delta, erfc_raw, erfc_delta, r_values, significant_samples = evaluate_components(Y, traces, A, C, b, f, final_frate=final_frate, remove_baseline=True, N=5, robust_std=False, Athresh=0.1, Npeaks=10, thresh_C=0.3)\n",
    "\n",
    "# get the ids of the components evaluated to be acceptable\n",
    "idx_components_r = np.where(r_values >= 0.5)[0]\n",
    "idx_components_raw = np.where(fitness_raw < -20)[0]        \n",
    "idx_components_delta = np.where(fitness_delta < -10)[0]   \n",
    "\n",
    "# gather the components meeting at least one of the criteria into a list\n",
    "idx_components = np.union1d(np.union1d(idx_components_r, idx_components_raw), idx_components_delta)\n",
    "\n",
    "# omit all but the good components from the spatial and temporal matrices\n",
    "A = A[:,idx_components]\n",
    "C = C[idx_components,:]\n",
    "\n",
    "print('Retaining {} of {} components'.format(len(idx_components),len(traces)))"
   ]
  },
  {
   "cell_type": "markdown",
   "metadata": {},
   "source": [
    "# Update the Spatial Components"
   ]
  },
  {
   "cell_type": "code",
   "execution_count": null,
   "metadata": {
    "collapsed": false
   },
   "outputs": [],
   "source": [
    "A, b, C = cnmf.spatial.update_spatial_components(Yr, C, f, A, sn=sn, dview=dview, **options_full['spatial_params'])"
   ]
  },
  {
   "cell_type": "markdown",
   "metadata": {},
   "source": [
    "# Update the Temporal Components"
   ]
  },
  {
   "cell_type": "code",
   "execution_count": null,
   "metadata": {
    "collapsed": false
   },
   "outputs": [],
   "source": [
    "options_full['temporal_params']['p'] = p\n",
    "C, f, S, bl, c1,neurons_sn, g21, YrA = cnmf.temporal.update_temporal_components(Yr,A,b,C,f,dview=dview, bl=None,c1=None,sn=None,g=None,**options_full['temporal_params'])"
   ]
  },
  {
   "cell_type": "markdown",
   "metadata": {},
   "source": [
    "# Stop the Server and Remove the Log Files"
   ]
  },
  {
   "cell_type": "code",
   "execution_count": null,
   "metadata": {
    "collapsed": false
   },
   "outputs": [],
   "source": [
    "if not single_thread:\n",
    "    c.close()\n",
    "    cm.stop_server()\n",
    "    \n",
    "log_files = glob.glob('Yr*_LOG_*')\n",
    "for log_file in log_files:\n",
    "    os.remove(log_file)"
   ]
  },
  {
   "cell_type": "markdown",
   "metadata": {},
   "source": [
    "# Evaluate the Components\n",
    "\n",
    "Order the components according to quality and omit those that fall below a certain threshold. We also find which components are nice blob shapes here and store their ids in idx_blobs, failing to be a blob isn't ground to remove the component though"
   ]
  },
  {
   "cell_type": "code",
   "execution_count": null,
   "metadata": {
    "collapsed": false
   },
   "outputs": [],
   "source": [
    "traces = C + YrA\n",
    "\n",
    "fitness_raw, fitness_delta, erfc_raw, erfc_delta, r_values, significant_samples = evaluate_components(Y, traces, A, C, b, f, final_frate=final_frate, remove_baseline=True, N=5, robust_std=False, Athresh = 0.1, Npeaks = 10, thresh_C = 0.3)\n",
    "\n",
    "idx_components_r = np.where(r_values >= 0.6)[0]\n",
    "idx_components_raw = np.where(fitness_raw < -60)[0]        \n",
    "idx_components_delta = np.where(fitness_delta < -20)[0]   \n",
    "\n",
    "min_radius = gSig[0] - 2\n",
    "masks_ws, idx_blobs, idx_non_blobs = extract_binary_masks_blob(A.tocsc(), min_radius, dims, num_std_threshold=1, minCircularity=0.6, minInertiaRatio=0.2, minConvexity=0.8)\n",
    "\n",
    "idx_components = np.union1d(np.union1d(idx_components_r, idx_components_raw), idx_components_delta)\n",
    "idx_blobs = np.intersect1d(idx_components, idx_blobs)\n",
    "idx_components_bad = np.setdiff1d(list(range(len(traces))), idx_components)\n",
    "\n",
    "clear_output()\n",
    "\n",
    "print('Retaining {} of {} components, {} of which are blobs'.format(len(idx_components),len(traces),len(idx_blobs)))"
   ]
  },
  {
   "cell_type": "markdown",
   "metadata": {},
   "source": [
    "# Visualise the Components"
   ]
  },
  {
   "cell_type": "code",
   "execution_count": null,
   "metadata": {
    "collapsed": false
   },
   "outputs": [],
   "source": [
    "_ = nb_view_patches(Yr,A.tocsc().todense()[:,idx_components],C[idx_components,:],b,f,dims[0], dims[1],thr = 0.9,image_neurons=Cn)"
   ]
  },
  {
   "cell_type": "code",
   "execution_count": null,
   "metadata": {
    "collapsed": false
   },
   "outputs": [],
   "source": [
    "%pylab inline\n",
    "pylab.rcParams['figure.figsize'] = (10, 10)\n",
    "\n",
    "crd = plot_contours(A.tocsc(), Cn, thr=0.9)\n"
   ]
  },
  {
   "cell_type": "code",
   "execution_count": null,
   "metadata": {
    "collapsed": false
   },
   "outputs": [],
   "source": [
    "pl.imshow(np.sum(A.todense()[:,12:15],axis=1).reshape(dims).T, interpolation='None')"
   ]
  },
  {
   "cell_type": "code",
   "execution_count": null,
   "metadata": {
    "collapsed": false
   },
   "outputs": [],
   "source": [
    "pl.plot(C[12,:],'b',C[13,:],'g',C[14,:],'r')"
   ]
  }
 ],
 "metadata": {
  "anaconda-cloud": {},
  "kernelspec": {
   "display_name": "Python [conda env:CNMF]",
   "language": "python",
   "name": "conda-env-CNMF-py"
  },
  "language_info": {
   "codemirror_mode": {
    "name": "ipython",
    "version": 2
   },
   "file_extension": ".py",
   "mimetype": "text/x-python",
   "name": "python",
   "nbconvert_exporter": "python",
   "pygments_lexer": "ipython2",
   "version": "2.7.12"
  },
  "nbpresent": {
   "slides": {
    "033b33ee-857f-4cc9-838f-0a655a7b1892": {
     "id": "033b33ee-857f-4cc9-838f-0a655a7b1892",
     "prev": null,
     "regions": {
      "473f6829-daf2-4398-9d75-00630e11ea8e": {
       "attrs": {
        "height": 0.8,
        "width": 0.8,
        "x": 0.1,
        "y": 0.1
       },
       "content": {
        "cell": "4ae410b2-ad9f-4dd7-bdf8-4d8cfcd03826",
        "part": "whole"
       },
       "id": "473f6829-daf2-4398-9d75-00630e11ea8e"
      }
     }
    },
    "04b6f1a9-60ed-46cc-935c-9c296755e636": {
     "id": "04b6f1a9-60ed-46cc-935c-9c296755e636",
     "prev": "e6fc25c9-ae65-4047-b0fc-be42c80f9a4f",
     "regions": {
      "8a694352-aa3f-4485-ac0f-def180752082": {
       "attrs": {
        "height": 0.8,
        "width": 0.8,
        "x": 0.1,
        "y": 0.1
       },
       "content": {
        "cell": "8331fd21-e414-4967-a7e5-ff68443ab857",
        "part": "whole"
       },
       "id": "8a694352-aa3f-4485-ac0f-def180752082"
      }
     }
    },
    "04fe463e-eac4-4a59-b99b-415949101210": {
     "id": "04fe463e-eac4-4a59-b99b-415949101210",
     "prev": "6d2b7e9b-9ec5-4690-bdb3-e21e4df4b4e8",
     "regions": {
      "cef16a62-9243-400a-9f54-2a53b690db29": {
       "attrs": {
        "height": 0.8,
        "width": 0.8,
        "x": 0.1,
        "y": 0.1
       },
       "content": {
        "cell": "500ced2c-9d78-4b70-9d38-fc0525097331",
        "part": "whole"
       },
       "id": "cef16a62-9243-400a-9f54-2a53b690db29"
      }
     }
    },
    "0cc04b5e-d7fe-491e-9f85-bae6bddcdbf7": {
     "id": "0cc04b5e-d7fe-491e-9f85-bae6bddcdbf7",
     "prev": "a9410d2d-9a3b-4b2d-94df-a436b45b1b14",
     "regions": {
      "b7ea1b00-831e-4675-a9a9-523999e13359": {
       "attrs": {
        "height": 0.8,
        "width": 0.8,
        "x": 0.1,
        "y": 0.1
       },
       "content": {
        "cell": "43ed6bf7-ae55-403a-b8da-acf1015a8e65",
        "part": "whole"
       },
       "id": "b7ea1b00-831e-4675-a9a9-523999e13359"
      }
     }
    },
    "1739e301-94f3-43b3-ad75-207da0685183": {
     "id": "1739e301-94f3-43b3-ad75-207da0685183",
     "prev": "a4d43450-4093-4fcf-8f96-b48f9be2013b",
     "regions": {
      "4cffaddd-6491-4fb1-a52b-8cab32549ab0": {
       "attrs": {
        "height": 0.8,
        "width": 0.8,
        "x": 0.1,
        "y": 0.1
       },
       "content": {
        "cell": "95ff20a1-c0d6-474f-b176-2b947b106ef2",
        "part": "whole"
       },
       "id": "4cffaddd-6491-4fb1-a52b-8cab32549ab0"
      }
     }
    },
    "2863241c-f122-4766-b7ef-ef0437a0a00f": {
     "id": "2863241c-f122-4766-b7ef-ef0437a0a00f",
     "prev": "ca93e02e-3efd-47d9-b829-733357f39747",
     "regions": {
      "242ce634-036b-4c1b-b239-719f6febbc67": {
       "attrs": {
        "height": 0.8,
        "width": 0.8,
        "x": 0.1,
        "y": 0.1
       },
       "content": {
        "cell": "9f873f7f-9588-4299-ad18-7faf65f35866",
        "part": "whole"
       },
       "id": "242ce634-036b-4c1b-b239-719f6febbc67"
      }
     }
    },
    "2e1b7c6b-3d44-425e-a754-03fea3dd4150": {
     "id": "2e1b7c6b-3d44-425e-a754-03fea3dd4150",
     "prev": "e0ec8075-350e-4081-80c4-d1ac5a088903",
     "regions": {
      "49eef510-9fe5-431f-b1a5-d02171de4bbc": {
       "attrs": {
        "height": 0.8,
        "width": 0.8,
        "x": 0.1,
        "y": 0.1
       },
       "content": {
        "cell": "10f14ce5-bca2-4ed4-b3e9-bf05ca650080",
        "part": "whole"
       },
       "id": "49eef510-9fe5-431f-b1a5-d02171de4bbc"
      }
     }
    },
    "3c788b68-5ec9-4824-8419-60bfcd9b5c39": {
     "id": "3c788b68-5ec9-4824-8419-60bfcd9b5c39",
     "prev": "7579a295-f2b8-4da9-872c-c57a83632080",
     "regions": {
      "076b5487-2d94-486f-99f8-02f1097654ee": {
       "attrs": {
        "height": 0.8,
        "width": 0.8,
        "x": 0.1,
        "y": 0.1
       },
       "content": {
        "cell": "5ed4a1ce-9f01-420a-af0b-57693cf28c14",
        "part": "whole"
       },
       "id": "076b5487-2d94-486f-99f8-02f1097654ee"
      }
     }
    },
    "46c17a58-2dd1-4be2-ae53-ed65869b6f94": {
     "id": "46c17a58-2dd1-4be2-ae53-ed65869b6f94",
     "prev": "04fe463e-eac4-4a59-b99b-415949101210",
     "regions": {
      "3b1e5b8b-e195-4d6a-b5a4-951dc8656496": {
       "attrs": {
        "height": 0.8,
        "width": 0.8,
        "x": 0.1,
        "y": 0.1
       },
       "content": {
        "cell": "b287a09c-ada7-4af6-b810-cf00d48a29f1",
        "part": "whole"
       },
       "id": "3b1e5b8b-e195-4d6a-b5a4-951dc8656496"
      }
     }
    },
    "58328061-8bc1-4dc3-802f-dc99690c4b82": {
     "id": "58328061-8bc1-4dc3-802f-dc99690c4b82",
     "prev": "ccc7ec94-d6db-4aa7-8f71-0beb9116cd37",
     "regions": {
      "d181ade0-b120-4ebc-8185-d038d11439ac": {
       "attrs": {
        "height": 0.8,
        "width": 0.8,
        "x": 0.1,
        "y": 0.1
       },
       "content": {
        "cell": "6504a64f-a2de-4fbc-b701-a340ba95833d",
        "part": "whole"
       },
       "id": "d181ade0-b120-4ebc-8185-d038d11439ac"
      }
     }
    },
    "64ce206d-6727-4064-a890-b42262caa3fc": {
     "id": "64ce206d-6727-4064-a890-b42262caa3fc",
     "prev": "46c17a58-2dd1-4be2-ae53-ed65869b6f94",
     "regions": {
      "65646965-2c00-4196-b409-5ebcf6c1619d": {
       "attrs": {
        "height": 0.8,
        "width": 0.8,
        "x": 0.1,
        "y": 0.1
       },
       "content": {
        "cell": "5da23ac8-08cb-4c12-8e9e-94b00b412d54",
        "part": "whole"
       },
       "id": "65646965-2c00-4196-b409-5ebcf6c1619d"
      }
     }
    },
    "6d2b7e9b-9ec5-4690-bdb3-e21e4df4b4e8": {
     "id": "6d2b7e9b-9ec5-4690-bdb3-e21e4df4b4e8",
     "prev": "04b6f1a9-60ed-46cc-935c-9c296755e636",
     "regions": {
      "1fd11931-a8b4-4d23-967c-a6398016ece2": {
       "attrs": {
        "height": 0.8,
        "width": 0.8,
        "x": 0.1,
        "y": 0.1
       },
       "content": {
        "cell": "752234ed-e544-40ee-a805-e9f8272dc999",
        "part": "whole"
       },
       "id": "1fd11931-a8b4-4d23-967c-a6398016ece2"
      }
     }
    },
    "7579a295-f2b8-4da9-872c-c57a83632080": {
     "id": "7579a295-f2b8-4da9-872c-c57a83632080",
     "prev": "79307bce-aa93-4bc9-894c-efe4e8a8ab4c",
     "regions": {
      "bdc36c05-4652-406e-8873-2ec003b31529": {
       "attrs": {
        "height": 0.8,
        "width": 0.8,
        "x": 0.1,
        "y": 0.1
       },
       "content": {
        "cell": "f3c3780c-5e46-4b95-994c-0f2d6353e3b1",
        "part": "whole"
       },
       "id": "bdc36c05-4652-406e-8873-2ec003b31529"
      }
     }
    },
    "79307bce-aa93-4bc9-894c-efe4e8a8ab4c": {
     "id": "79307bce-aa93-4bc9-894c-efe4e8a8ab4c",
     "prev": "a1822a91-a7e9-4e1b-bf47-8604b41ce180",
     "regions": {
      "8ce0deb0-5989-4dbb-91a1-3c61058b1ebd": {
       "attrs": {
        "height": 0.8,
        "width": 0.8,
        "x": 0.1,
        "y": 0.1
       },
       "content": {
        "cell": "b1faf838-8317-4e26-b039-20e1ec5076e0",
        "part": "whole"
       },
       "id": "8ce0deb0-5989-4dbb-91a1-3c61058b1ebd"
      }
     }
    },
    "a1822a91-a7e9-4e1b-bf47-8604b41ce180": {
     "id": "a1822a91-a7e9-4e1b-bf47-8604b41ce180",
     "prev": "ac07076b-a3fd-4843-b324-f93b7c6d3641",
     "regions": {
      "0eabf72e-3f16-4169-a4d8-e294117b2f2e": {
       "attrs": {
        "height": 0.8,
        "width": 0.8,
        "x": 0.1,
        "y": 0.1
       },
       "content": {
        "cell": "72ca50fe-5cdb-461f-82cc-1292e91810a2",
        "part": "whole"
       },
       "id": "0eabf72e-3f16-4169-a4d8-e294117b2f2e"
      }
     }
    },
    "a4d43450-4093-4fcf-8f96-b48f9be2013b": {
     "id": "a4d43450-4093-4fcf-8f96-b48f9be2013b",
     "prev": "2e1b7c6b-3d44-425e-a754-03fea3dd4150",
     "regions": {
      "ff352440-5c13-454a-a156-32e538cbd7c6": {
       "attrs": {
        "height": 0.8,
        "width": 0.8,
        "x": 0.1,
        "y": 0.1
       },
       "content": {
        "cell": "4cfb9b62-1179-4f23-8f30-0a625dc6f5ab",
        "part": "whole"
       },
       "id": "ff352440-5c13-454a-a156-32e538cbd7c6"
      }
     }
    },
    "a8726e5a-3d4a-40fb-922d-6e1f32c52edf": {
     "id": "a8726e5a-3d4a-40fb-922d-6e1f32c52edf",
     "prev": "1739e301-94f3-43b3-ad75-207da0685183",
     "regions": {
      "be6d88e5-9fb0-45d2-80ce-7753b7d045cd": {
       "attrs": {
        "height": 0.8,
        "width": 0.8,
        "x": 0.1,
        "y": 0.1
       },
       "content": {
        "cell": "a5a867de-99d6-4d4e-9ace-e61b3c497614",
        "part": "whole"
       },
       "id": "be6d88e5-9fb0-45d2-80ce-7753b7d045cd"
      }
     }
    },
    "a9410d2d-9a3b-4b2d-94df-a436b45b1b14": {
     "id": "a9410d2d-9a3b-4b2d-94df-a436b45b1b14",
     "prev": "64ce206d-6727-4064-a890-b42262caa3fc",
     "regions": {
      "5cf0bbe9-0d9a-4106-8a14-eeeb639d3718": {
       "attrs": {
        "height": 0.8,
        "width": 0.8,
        "x": 0.1,
        "y": 0.1
       },
       "content": {
        "cell": "f8c66eb1-6167-4f57-84b5-dac3fb885f9c",
        "part": "whole"
       },
       "id": "5cf0bbe9-0d9a-4106-8a14-eeeb639d3718"
      }
     }
    },
    "ac07076b-a3fd-4843-b324-f93b7c6d3641": {
     "id": "ac07076b-a3fd-4843-b324-f93b7c6d3641",
     "prev": "58328061-8bc1-4dc3-802f-dc99690c4b82",
     "regions": {
      "23cc5261-0fb7-4baa-8eef-708d49b5a4c9": {
       "attrs": {
        "height": 0.8,
        "width": 0.8,
        "x": 0.1,
        "y": 0.1
       },
       "content": {
        "cell": "2f5108e5-c334-4bed-9798-56c5e0348c14",
        "part": "whole"
       },
       "id": "23cc5261-0fb7-4baa-8eef-708d49b5a4c9"
      }
     }
    },
    "ca93e02e-3efd-47d9-b829-733357f39747": {
     "id": "ca93e02e-3efd-47d9-b829-733357f39747",
     "prev": "0cc04b5e-d7fe-491e-9f85-bae6bddcdbf7",
     "regions": {
      "3d1b7255-1a98-4172-aa10-81c2fb418d25": {
       "attrs": {
        "height": 0.8,
        "width": 0.8,
        "x": 0.1,
        "y": 0.1
       },
       "content": {
        "cell": "c837109a-41db-4c3d-ac2b-12ec5e6603fe",
        "part": "whole"
       },
       "id": "3d1b7255-1a98-4172-aa10-81c2fb418d25"
      }
     }
    },
    "ccc7ec94-d6db-4aa7-8f71-0beb9116cd37": {
     "id": "ccc7ec94-d6db-4aa7-8f71-0beb9116cd37",
     "prev": "2863241c-f122-4766-b7ef-ef0437a0a00f",
     "regions": {
      "d7b698a3-d71c-407e-b718-f013345519cd": {
       "attrs": {
        "height": 0.8,
        "width": 0.8,
        "x": 0.1,
        "y": 0.1
       },
       "content": {
        "cell": "45e31399-065d-4d54-bc9b-e19f8a2e45e5",
        "part": "whole"
       },
       "id": "d7b698a3-d71c-407e-b718-f013345519cd"
      }
     }
    },
    "e0ec8075-350e-4081-80c4-d1ac5a088903": {
     "id": "e0ec8075-350e-4081-80c4-d1ac5a088903",
     "prev": "e2e17165-4357-4ae6-8efb-f4f7b3a6d2c3",
     "regions": {
      "f90e762b-c4e9-4235-974b-522b20adaf8a": {
       "attrs": {
        "height": 0.8,
        "width": 0.8,
        "x": 0.1,
        "y": 0.1
       },
       "content": {
        "cell": "86db9fe0-5c73-452b-b989-4f1ef408d080",
        "part": "whole"
       },
       "id": "f90e762b-c4e9-4235-974b-522b20adaf8a"
      }
     }
    },
    "e2e17165-4357-4ae6-8efb-f4f7b3a6d2c3": {
     "id": "e2e17165-4357-4ae6-8efb-f4f7b3a6d2c3",
     "prev": "033b33ee-857f-4cc9-838f-0a655a7b1892",
     "regions": {
      "d8e97c40-5af8-4540-ab9c-3fa689f99466": {
       "attrs": {
        "height": 0.8,
        "width": 0.8,
        "x": 0.1,
        "y": 0.1
       },
       "content": {
        "cell": "390a2900-669a-40b2-9667-af70d7ee24f8",
        "part": "whole"
       },
       "id": "d8e97c40-5af8-4540-ab9c-3fa689f99466"
      }
     }
    },
    "e6fc25c9-ae65-4047-b0fc-be42c80f9a4f": {
     "id": "e6fc25c9-ae65-4047-b0fc-be42c80f9a4f",
     "prev": "a8726e5a-3d4a-40fb-922d-6e1f32c52edf",
     "regions": {
      "cd246863-a5d1-48c8-8092-a31848a68feb": {
       "attrs": {
        "height": 0.8,
        "width": 0.8,
        "x": 0.1,
        "y": 0.1
       },
       "content": {
        "cell": "9d185420-3280-4720-9bf1-21cd65a3ae85",
        "part": "whole"
       },
       "id": "cd246863-a5d1-48c8-8092-a31848a68feb"
      }
     }
    }
   },
   "themes": {}
  }
 },
 "nbformat": 4,
 "nbformat_minor": 1
}
